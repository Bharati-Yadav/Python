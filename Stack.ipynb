{
  "nbformat": 4,
  "nbformat_minor": 0,
  "metadata": {
    "colab": {
      "name": "Stack.ipynb",
      "provenance": [],
      "private_outputs": true,
      "authorship_tag": "ABX9TyPYXpRdkuIWpi5wXTZlpL9/",
      "include_colab_link": true
    },
    "kernelspec": {
      "name": "python3",
      "display_name": "Python 3"
    }
  },
  "cells": [
    {
      "cell_type": "markdown",
      "metadata": {
        "id": "view-in-github",
        "colab_type": "text"
      },
      "source": [
        "<a href=\"https://colab.research.google.com/github/bhushanyadav07/Python/blob/master/Stack.ipynb\" target=\"_parent\"><img src=\"https://colab.research.google.com/assets/colab-badge.svg\" alt=\"Open In Colab\"/></a>"
      ]
    },
    {
      "cell_type": "markdown",
      "metadata": {
        "id": "rpHPpQi4DXAS",
        "colab_type": "text"
      },
      "source": [
        "Reverse the string"
      ]
    },
    {
      "cell_type": "code",
      "metadata": {
        "id": "vJVOD7zlCNX1",
        "colab_type": "code",
        "colab": {}
      },
      "source": [
        "input_str = 'Bhushan'\n",
        "print(input_str[::-1])"
      ],
      "execution_count": 0,
      "outputs": []
    },
    {
      "cell_type": "code",
      "metadata": {
        "id": "xchmjejoDoEY",
        "colab_type": "code",
        "colab": {}
      },
      "source": [
        "'''\n",
        "Stack data structure\n",
        "'''\n",
        "\n",
        "class stack():\n",
        "  def __init__(self):\n",
        "    self.item = []\n",
        "  \n",
        "  def push(self, item):\n",
        "    self.item.append(item)\n",
        "  \n",
        "  def pop(self):\n",
        "    return self.item.pop()\n",
        "\n",
        "  def get_stack(self):\n",
        "    return self.item\n",
        "  \n",
        "  def is_empty(self):\n",
        "    return self.item == []\n",
        "\n",
        "  def peek(self):\n",
        "    if not self.is_empty():\n",
        "      return self.item[-1]\n",
        "my_stack = stack()\n",
        "my_stack.push('A')\n",
        "my_stack.push('B')\n",
        "my_stack.push('C')\n",
        "print(my_stack.get_stack())\n",
        "my_stack.pop()\n",
        "print(my_stack.get_stack())\n",
        "print(my_stack.is_empty())\n",
        "print(my_stack.peek())\n",
        "\n",
        "\n",
        "\n"
      ],
      "execution_count": 0,
      "outputs": []
    },
    {
      "cell_type": "markdown",
      "metadata": {
        "id": "XtEcsXg5N3gT",
        "colab_type": "text"
      },
      "source": [
        "###Bracket Balancing"
      ]
    },
    {
      "cell_type": "code",
      "metadata": {
        "id": "z-nd-wgxNSPi",
        "colab_type": "code",
        "colab": {}
      },
      "source": [
        "\n",
        "\n",
        "\"\"\"\n",
        "Stack Data Structure.\n",
        "\"\"\"\n",
        "class Stack():\n",
        "    def __init__(self):\n",
        "        self.items = []\n",
        "\n",
        "    def push(self, item):\n",
        "        self.items.append(item)\t\t\t\t\n",
        "\n",
        "    def pop(self):\n",
        "        return self.items.pop()\n",
        "    \n",
        "    def is_empty(self):\n",
        "        return self.items == []\n",
        "    \n",
        "    def peek(self):\n",
        "        if not self.is_empty():\n",
        "            return self.items[-1]\n",
        "        \n",
        "    def get_stack(self):\n",
        "        return self.items\n",
        "\n",
        "def is_match(p1, p2):\n",
        "    if p1 == \"(\" and p2 == \")\":\n",
        "        return True\n",
        "    elif p1 == \"{\" and p2 == \"}\":\n",
        "        return True\n",
        "    elif p1 == \"[\" and p2 == \"]\":\n",
        "        return True\n",
        "    else:\n",
        "        return False\n",
        "\n",
        "\n",
        "def is_paren_balanced(paren_string):\n",
        "    s = Stack()\n",
        "    is_balanced = True\n",
        "    index = 0\n",
        "\n",
        "    while index < len(paren_string) and is_balanced:\n",
        "        paren = paren_string[index]\n",
        "        if paren in \"([{\":\n",
        "            s.push(paren)\n",
        "        else:\n",
        "            if s.is_empty():\n",
        "                is_balanced = False\n",
        "            else:\n",
        "                top = s.pop()\n",
        "                if not is_match(top, paren):\n",
        "                    is_balanced = False\n",
        "        index += 1\n",
        "\n",
        "    if s.is_empty() and is_balanced:\n",
        "        return True\n",
        "    else:\n",
        "        return False\n",
        "\n",
        "print(\"String : (((({})))) Balanced or not?\")\n",
        "print(is_paren_balanced(\"(((({}))))\"))\n",
        "\n",
        "print(\"String : [][]]] Balanced or not?\")\n",
        "print(is_paren_balanced(\"[][]]]\"))\n",
        "\n",
        "print(\"String : [][] Balanced or not?\")\n",
        "print(is_paren_balanced(\"[][]\"))"
      ],
      "execution_count": 0,
      "outputs": []
    },
    {
      "cell_type": "markdown",
      "metadata": {
        "id": "W7-WUuWNN7l4",
        "colab_type": "text"
      },
      "source": [
        "###Reverse String"
      ]
    },
    {
      "cell_type": "code",
      "metadata": {
        "id": "_gzCLpbsN9vF",
        "colab_type": "code",
        "colab": {}
      },
      "source": [
        "class Stack():\n",
        "    def __init__(self):\n",
        "        self.items = []\n",
        "\n",
        "    def push(self, item):\n",
        "        self.items.append(item)\t\t\t\t\n",
        "\n",
        "    def pop(self):\n",
        "        return self.items.pop()\n",
        "    \n",
        "    def is_empty(self):\n",
        "        return self.items == []\n",
        "    \n",
        "    def peek(self):\n",
        "        if not self.is_empty():\n",
        "            return self.items[-1]\n",
        "        \n",
        "    def get_stack(self):\n",
        "        return self.items\n",
        "\n",
        "\n",
        "\n",
        "def reverse_string(stack, input_str):\n",
        "  for i in range(len(input_str)):\n",
        "    stack.push(input_str[i])\n",
        "  rev_str = \"\"\n",
        "  while not stack.is_empty():\n",
        "    rev_str += stack.pop()\n",
        "\n",
        "  return rev_str\n",
        "\n",
        "stack = Stack()\n",
        "input_str = \"!nahsuhB emocleW\"\n",
        "print(reverse_string(stack, input_str))"
      ],
      "execution_count": 0,
      "outputs": []
    },
    {
      "cell_type": "markdown",
      "metadata": {
        "id": "gsDwfmfoPtXu",
        "colab_type": "text"
      },
      "source": [
        "##Exercise:Convert Decimal Integer to Binary"
      ]
    },
    {
      "cell_type": "code",
      "metadata": {
        "id": "YkO4ycsRPuw1",
        "colab_type": "code",
        "colab": {}
      },
      "source": [
        "class Stack():\n",
        "    def __init__(self):\n",
        "        self.items = []\n",
        "\n",
        "    def push(self, item):\n",
        "        self.items.append(item)\t\t\t\t\n",
        "\n",
        "    def pop(self):\n",
        "        return self.items.pop()\n",
        "    \n",
        "    def is_empty(self):\n",
        "        return self.items == []\n",
        "    \n",
        "    def peek(self):\n",
        "        if not self.is_empty():\n",
        "            return self.items[-1]\n",
        "        \n",
        "    def get_stack(self):\n",
        "        return self.items\n",
        "\n",
        "\n",
        "\n",
        "def convert_int_to_bin(dec_num):\n",
        "    s = Stack()\n",
        "\n",
        "    while dec_num > 0:\n",
        "        remainder = dec_num % 2\n",
        "        s.push(remainder)\n",
        "        dec_num = dec_num // 2\n",
        "\n",
        "    bin_num = \"\"\n",
        "    while not s.is_empty():\n",
        "        bin_num += str(s.pop())\n",
        "\n",
        "    return bin_num\n",
        "\n",
        "print(convert_int_to_bin(56))\n",
        "print(convert_int_to_bin(2))\n",
        "print(convert_int_to_bin(32))\n",
        "print(convert_int_to_bin(10))\n",
        "\n",
        "print(int(convert_int_to_bin(56),2)==56)"
      ],
      "execution_count": 0,
      "outputs": []
    }
  ]
}